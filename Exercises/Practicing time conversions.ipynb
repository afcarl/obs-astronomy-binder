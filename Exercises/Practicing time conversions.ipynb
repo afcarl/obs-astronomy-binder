{
 "cells": [
  {
   "cell_type": "markdown",
   "metadata": {},
   "source": [
    "# Outline\n",
    "\n",
    "1. Given variable star maximum at time in JD_TDB, \n",
    "    1. what is time of maximum in UTC?\n",
    "    2. What is time of maximum, local time?\n",
    "1. Given local time and DATE, \n",
    "    1. what is UTC?\n",
    "    1. What is ISOT version?\n",
    "1. Given link to astropy documentation, identify which format each of the times below is in.\n",
    "\n"
   ]
  },
  {
   "cell_type": "code",
   "execution_count": null,
   "metadata": {
    "collapsed": true
   },
   "outputs": [],
   "source": []
  }
 ],
 "metadata": {
  "kernelspec": {
   "display_name": "Python 3",
   "language": "python",
   "name": "python3"
  },
  "language_info": {
   "codemirror_mode": {
    "name": "ipython",
    "version": 3
   },
   "file_extension": ".py",
   "mimetype": "text/x-python",
   "name": "python",
   "nbconvert_exporter": "python",
   "pygments_lexer": "ipython3",
   "version": "3.5.1"
  }
 },
 "nbformat": 4,
 "nbformat_minor": 1
}
