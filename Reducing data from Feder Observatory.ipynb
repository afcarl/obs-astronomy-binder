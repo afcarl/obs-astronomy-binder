{
 "cells": [
  {
   "cell_type": "markdown",
   "metadata": {},
   "source": [
    "# Reducing Data From Feder Observatory \n",
    "\n",
    "This document describes the choices you need to make and the settings you need to use to implement those choices."
   ]
  },
  {
   "cell_type": "markdown",
   "metadata": {},
   "source": [
    "# Camera: Apogee Alta U9\n",
    "\n",
    "This is the default camera on the telescope. Some basic properties of the camera are:\n",
    "\n",
    "+ The imaging region is up to 3073×2048 pixels (can be smaller if you bin the images).\n",
    "+ An optional overscan region extends the image size to 3085×2048 pixels. \n",
    "+ The part of the overscan that is useful for estimating bias is from column 3076 to 3079. The rest of the columns get some light leak if the surrounding pixels are at high values (e.g. when taking a flat).\n",
    "+ Images are 16-bit, so the maximum pixel value is 65,535.\n",
    "+ Pixels begin to deviate from linearity around 50,000 counts.\n",
    "+ *Typical* dark current is 0.1 $e^{-}$/pix/sec, but roughly 0.1% of pixels are significantly hotter.\n",
    "+ Read noise is roughly 30 $e^{-}$/pix.\n",
    "+ The camera gain is 1.5."
   ]
  },
  {
   "cell_type": "markdown",
   "metadata": {
    "collapsed": true
   },
   "source": [
    "## Overall data reduction strategy and advice\n",
    "\n",
    "+ Whenever possible, use darks that are the same exposure time as the flat/light images and do not subtract bias.\n",
    "+ If there are not darks with the right exposure times, try to scale the dark frames down (e.g. from 30 to 15 second) rather than up (e.g. from 30 to 60 seconds).\n",
    "+ Sometimes you will have to scale darks up because you have no choice.\n",
    "+ Clip outliers to remove cosmic rays in the calibration images.\n",
    "+ Trim off the overscan.\n",
    "+ Use flats; if there are no flats on the night you are reducing, try to find a night close to the time of your night that does have flats and use those.\n",
    "+ Some times there will be no appropriate flats. \n"
   ]
  },
  {
   "cell_type": "markdown",
   "metadata": {},
   "source": [
    "## Specific settings\n",
    "\n",
    "### Reduction steps\n",
    "\n",
    "+ **Overscan**: Do not subtract it unless you know you need to. If you subtract it, then you **must subtract overscan from all images** and you want these settings:\n",
    "    + Overscan region is all of `axis 0` and from `3076` to `3079` along the other axis.\n",
    "    + Fit a polynomial (0th order, or maybe first order).\n",
    "+ **Trim:** Trim the images if they have overscan. *If you trim one set of images you must trim them all.* The settings are:\n",
    "    + Keep all of `axis 0` and from `0` to `3073` along the other axis.\n",
    "+ **Subtract bias:** Do this only if you absolutely must (because you need to scale the darks). \n",
    "+ **Subtract dark:** Always. \n",
    "+ **Flat correct:** Do for light images....unless there are no flats.\n",
    "\n",
    "### Image combining\n",
    "\n",
    "+ **Clip before combining:** For *calibration images* you should do this. Using sigma clip with both low and high threshold to 5 works reasonably well. \n",
    "+ **Combine images:** Typically you shuold choose to combine using average. If your goal in choosing median is to reject cosmic rays (for example), then clipping before combining works better.\n",
    "    + Only **scale** before combining when combining flats. This scales all images to so that their mdeian or average value is 1, then combines them. When combining flats this is almost always the right thing to do. \n",
    "+ **Group by:** This setting controls how the calibrated images are grouped to make masters. For bias and light images you usually don't want to set this. For darks it makes sense to combine only the dark images that have the same exposure time. \n",
    "    + By default, reducer sets \"Group by\" to `exposure` for darks; depending onyour setup it might (or might not) make sense to also group by temperature.\n",
    "    + By default, reducer set \"Group by\" to `exposure, filter` for flats, since flats with different filters should never be combined. That setting works fine for dome flats, but for sky flats, in which the exposure time is typically different for each image, the proper setting is just `filter`.\n"
   ]
  }
 ],
 "metadata": {
  "kernelspec": {
   "display_name": "Python 3",
   "language": "python",
   "name": "python3"
  },
  "language_info": {
   "codemirror_mode": {
    "name": "ipython",
    "version": 3
   },
   "file_extension": ".py",
   "mimetype": "text/x-python",
   "name": "python",
   "nbconvert_exporter": "python",
   "pygments_lexer": "ipython3",
   "version": "3.6.5"
  }
 },
 "nbformat": 4,
 "nbformat_minor": 1
}
