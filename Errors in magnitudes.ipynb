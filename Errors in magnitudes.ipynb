{
 "cells": [
  {
   "cell_type": "markdown",
   "metadata": {},
   "source": [
    "# Error, Magnitude, and Signal to Noise Ratio\n",
    "\n",
    "As with any measurement, there are unavoidable uncertainties in measuring magnitudes. To be clear, these are not uncertainties it is possible to eliminate by building a better telescope or being more careful. They are largely simply a result of doing an experiment in which one is, essentially, counting things.\n",
    "\n"
   ]
  }
 ],
 "metadata": {
  "kernelspec": {
   "display_name": "Python 3",
   "language": "python",
   "name": "python3"
  },
  "language_info": {
   "codemirror_mode": {
    "name": "ipython",
    "version": 3
   },
   "file_extension": ".py",
   "mimetype": "text/x-python",
   "name": "python",
   "nbconvert_exporter": "python",
   "pygments_lexer": "ipython3",
   "version": "3.5.1"
  }
 },
 "nbformat": 4,
 "nbformat_minor": 1
}
