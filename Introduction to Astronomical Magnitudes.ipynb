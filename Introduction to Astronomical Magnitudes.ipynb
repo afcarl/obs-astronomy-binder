{
 "cells": [
  {
   "cell_type": "markdown",
   "metadata": {},
   "source": [
    "# Introduction to astronomical magnitudes\n",
    "\n",
    "This will be a relatively non-technical introduction to magnitudes. Rather than focusing, for now, on a precise definition of flux density followed by integration over passbands to define fluxes in a band, and then defining magnitudes in terms of those, this will argue for a reasonable definition of magnitude in terms of counts from an image.\n",
    "\n",
    "The more technical points will be addressed in a separate document."
   ]
  },
  {
   "cell_type": "markdown",
   "metadata": {},
   "source": [
    "## Flux\n",
    "\n",
    "Conceptually, the measured flux is the amount of energy received per unit time per unit area of the detector. This suggests that the calculation of flux from quantities that can be measured directly from an image should be straightforward."
   ]
  },
  {
   "cell_type": "markdown",
   "metadata": {},
   "source": [
    "### Meauring flux from an image\n",
    "\n",
    "It is helpful in what follows to think about a single pixel in an image. Imagine one could measure the amount of energy deposited in a single pixel, and call that energy $E_{pix}$ (that cannot be measured directly, but imagine it could). \n",
    "\n",
    "If the area of a single pixel is $A_{pix}$ (this is known, provided by the camera manufacturer), and the exposure time is $t_{exp}$, then the flux, $f$, is\n",
    "\n",
    "$$\n",
    "f = \\frac{E_{pix}}{A_{pix} t_{exp}}\n",
    "$$\n",
    "\n",
    "There is just one problem; the energy deposited in a pixel cannot be measured by a CCD."
   ]
  },
  {
   "cell_type": "markdown",
   "metadata": {},
   "source": [
    "### Energy and photon counts\n",
    "\n",
    "If every single photon entering the detector was exactly the same wavelength then we *could* calculate the energy deposited in a single pixel. The energy of each photon coming in would be, say $E_{photon}$, (remember, photon energy is directly proportional to frequency, and inversely proportional to the wavelength). If the number of photons is $N_{phot}$, then the energy deposited in one pixel would be \n",
    "\n",
    "$$\n",
    "E_{pix} = N_{photons} E_{photon}.\n",
    "$$\n",
    "\n",
    "The number of photons is essentially directly measurable from a calibrated image. The number of counts (which one gets from the image), $N_{count}$ is related to the number of photons by the camera's gain, $g$, so that\n",
    "\n",
    "$$\n",
    "N_{photons} = g N_{counts}.\n",
    "$$\n",
    "\n",
    "That still leaves one key factor to resolve: photon energy."
   ]
  },
  {
   "cell_type": "markdown",
   "metadata": {},
   "source": [
    "### Photon energy\n",
    "#### Or, why one uses filters\n",
    "\n",
    "In principle, one could argue that the appropriate energy to use would be an \"average\" energy of some sort. If every star was identical that might work, in principle...but they are not. High temperature stars produce photons that are, on average, higher energy than the average photon produced by a lower temperature star.\n",
    "\n",
    "One way to mitigate that is to take images through a filter that passes only a (relatively) narrow range of wavelengths. There will still be differences from star-to-star (or asteroid or other objet), but these differences will be much smaller than if one looks only at a narrow section of the spectrum.\n",
    "\n",
    "This difference in spectrum between stars of different temperatures still leads to differences in stellar fluxes measured through filters, which is in part what motivates making color corrections to those fluxes.\n",
    "\n",
    "For the rest of the discussion, assume that:\n",
    "\n",
    "1. A filter is being used when taking the image.\n",
    "1. All energies, and hence, all fluxes, and all magnitudes, are also for a specific filter (e.g. one of BVRI, or griz, or some other filter).\n"
   ]
  },
  {
   "cell_type": "markdown",
   "metadata": {},
   "source": [
    "## Flux and images recap\n",
    "\n",
    "The measured flux is related to the counts in an image, *when the observations are done through a filter*, by\n",
    "\n",
    "$$\n",
    "f = \\frac{g N_{counts} E_{photon, filter}}{A_{pix} t_{exp}}.\n",
    "$$\n"
   ]
  },
  {
   "cell_type": "markdown",
   "metadata": {},
   "source": [
    "# Magnitudes and flux ratios\n"
   ]
  },
  {
   "cell_type": "code",
   "execution_count": null,
   "metadata": {
    "collapsed": true
   },
   "outputs": [],
   "source": []
  }
 ],
 "metadata": {
  "kernelspec": {
   "display_name": "Python 3",
   "language": "python",
   "name": "python3"
  },
  "language_info": {
   "codemirror_mode": {
    "name": "ipython",
    "version": 3
   },
   "file_extension": ".py",
   "mimetype": "text/x-python",
   "name": "python",
   "nbconvert_exporter": "python",
   "pygments_lexer": "ipython3",
   "version": "3.5.1"
  }
 },
 "nbformat": 4,
 "nbformat_minor": 1
}
