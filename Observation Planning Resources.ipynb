{
 "cells": [
  {
   "cell_type": "markdown",
   "metadata": {},
   "source": [
    "# Resources for planning observations\n",
    "\n",
    "This notebook contains a short overview of some of the tools for planning observations. It is not (yet) a detailed, step-by-step cookbook."
   ]
  },
  {
   "cell_type": "markdown",
   "metadata": {},
   "source": [
    "## Before you start\n",
    "\n",
    "Pick an object you are interested in (e.g. M34, an open cluster, or Kelt-1, a star which has an exoplanet orbiting around it) that is **not in our solar system**. Objects in our solar system, like an asteroid, need a little more care because their position changes with time.\n",
    "\n",
    "You will, shortly, try looking up information about the object. If the first attempt at lookup fails, consider switching to a different object."
   ]
  },
  {
   "cell_type": "markdown",
   "metadata": {},
   "source": [
    "# Links to Resources\n",
    "\n",
    "1. Information about the Paul P. Feder Observatory is at the observatory blog; of particular importance later in this activity are the longitude, latitude and elevation: [http://astronomy.mnstate.edu/Feder_Observatory/](http://astronomy.mnstate.edu/Feder_Observatory/)\n",
    "\n",
    "1. Simbad is the go-to source for basic information like coordinates or magnitude of an object. It is at: [http://simbad.u-strasbg.fr/simbad/](http://simbad.u-strasbg.fr/simbad/). There are several ways you can look up information but the examples below will all use a [basic identifier search](http://simbad.u-strasbg.fr/simbad/sim-fbasic).\n",
    "\n",
    "2. The [American Association of Variable Star Observers](http://aavso.org) (AAVSO) finder charts are a quick way to generate a finding chart for many objects (it is also possible to do something similar in simbad, but the AAVSO site is easier to use for that). You can find charts here for many objects that are not variable stars. The form for generating finding charts is at: https://www.aavso.org/apps/vsp/\n",
    "\n",
    "3. The AAVSO's [Variable Star Index (VSX)](https://www.aavso.org/vsx/index.php?view=search.top) has, for many variable stars, both basic information about the star and predictions of the time at which the maximum brightness (for a pulsating variable) or primary eclipse (for an eclipsing binary) will occur over the following few days.\n",
    "\n",
    "3. The [Exoplanet Transit Database](http://var2.astro.cz/ETD/index.php) has both predictions of when exoplanet transits will occur (though you have to provide the latitude and longitude of the observatory) and finding charts.\n",
    "\n",
    "3. \n",
    "\n",
    "It is also possible to look up information from some of these sources from directly from a notebook like this one using [astroquery](http://astroquery.readthedocs.io/en/latest/), but this typically takes at least a little programming.\n"
   ]
  },
  {
   "cell_type": "code",
   "execution_count": null,
   "metadata": {
    "collapsed": true
   },
   "outputs": [],
   "source": []
  },
  {
   "cell_type": "code",
   "execution_count": null,
   "metadata": {
    "collapsed": true
   },
   "outputs": [],
   "source": []
  }
 ],
 "metadata": {
  "kernelspec": {
   "display_name": "Python 3",
   "language": "python",
   "name": "python3"
  },
  "language_info": {
   "codemirror_mode": {
    "name": "ipython",
    "version": 3
   },
   "file_extension": ".py",
   "mimetype": "text/x-python",
   "name": "python",
   "nbconvert_exporter": "python",
   "pygments_lexer": "ipython3",
   "version": "3.5.2"
  }
 },
 "nbformat": 4,
 "nbformat_minor": 1
}
