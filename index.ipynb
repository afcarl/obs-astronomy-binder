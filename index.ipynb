{
 "cells": [
  {
   "cell_type": "markdown",
   "metadata": {},
   "source": [
    "1. [Times in astronomy](Times in astronomy.ipynb)\n",
    "1. [Observation Planning Resources](Observation Planning Resources.ipynb)\n",
    "1. [Observation Planning 2 (airmass plots)](Observation Planning 2.ipynb)\n",
    "1. [Introduction to Astronomical Magnitudes](Introduction to Astronomical Magnitudes.ipynb)\n",
    "1. [Errors in magnitudes](Errors in magnitudes.ipynb)"
   ]
  },
  {
   "cell_type": "code",
   "execution_count": null,
   "metadata": {
    "collapsed": true
   },
   "outputs": [],
   "source": []
  }
 ],
 "metadata": {
  "kernelspec": {
   "display_name": "Python 3",
   "language": "python",
   "name": "python3"
  },
  "language_info": {
   "codemirror_mode": {
    "name": "ipython",
    "version": 3
   },
   "file_extension": ".py",
   "mimetype": "text/x-python",
   "name": "python",
   "nbconvert_exporter": "python",
   "pygments_lexer": "ipython3",
   "version": "3.5.1"
  }
 },
 "nbformat": 4,
 "nbformat_minor": 1
}
