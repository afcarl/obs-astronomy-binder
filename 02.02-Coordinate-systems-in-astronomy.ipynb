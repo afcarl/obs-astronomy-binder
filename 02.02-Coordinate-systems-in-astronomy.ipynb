{
 "cells": [
  {
   "cell_type": "markdown",
   "metadata": {},
   "source": [
    "# Coordinate systems in astronomy\n",
    "\n",
    "There are an absurd number of useful coordinate systems in astronomy (see [this diagram from the astropy package for an example](http://astropy.readthedocs.io/en/stable/coordinates/index.html#module-astropy.coordinates)).\n",
    "\n",
    "Here we will focus on just a few. The ICRS is the system to use when looking up the coordinates for an object. The ICRS frame is defined by high-accuracy measurements of the positions of a few hundred very distant quasars. Coordinates in the ICRS system do not change in time, unlike earlier systems like FK5 that were essentially tied to the Earth's orientation in space.\n",
    "\n",
    "That said, to get to location of a star on the sky for a particular place on Earth at a particular time requires accounting for changes in the Earth's orientation since the ICRS frame was defined. The best way to handle is to let your observatory control or planetarium software handle that for you. Make sure that when you enter the coordinates of the object you want to observe that you specfiy \"J2000\" as the epoch of the coordinates and let the software do the transform for you.\n",
    "\n",
    "For observation planning using astropy, we'll use ICRS coordinates for the objects of interest."
   ]
  }
 ],
 "metadata": {
  "kernelspec": {
   "display_name": "Python 3",
   "language": "python",
   "name": "python3"
  },
  "language_info": {
   "codemirror_mode": {
    "name": "ipython",
    "version": 3
   },
   "file_extension": ".py",
   "mimetype": "text/x-python",
   "name": "python",
   "nbconvert_exporter": "python",
   "pygments_lexer": "ipython3",
   "version": "3.6.5"
  }
 },
 "nbformat": 4,
 "nbformat_minor": 2
}
