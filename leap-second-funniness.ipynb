{
 "cells": [
  {
   "cell_type": "code",
   "execution_count": 1,
   "metadata": {
    "collapsed": true
   },
   "outputs": [],
   "source": [
    "# Load Time from astropy \n",
    "from astropy.time import Time"
   ]
  },
  {
   "cell_type": "markdown",
   "metadata": {
    "collapsed": true
   },
   "source": [
    "# Leap second confusion\n",
    "\n",
    "June 30, 1994 had a leap second."
   ]
  },
  {
   "cell_type": "code",
   "execution_count": 3,
   "metadata": {},
   "outputs": [
    {
     "data": {
      "text/plain": [
       "49533.99997685212"
      ]
     },
     "execution_count": 3,
     "metadata": {},
     "output_type": "execute_result"
    }
   ],
   "source": [
    "leap_time0 = Time(\"1994-06-30T23:59:59\", scale='utc', format='isot')\n",
    "leap_time0.mjd"
   ]
  },
  {
   "cell_type": "code",
   "execution_count": 4,
   "metadata": {
    "collapsed": true
   },
   "outputs": [],
   "source": [
    "leap_time1 = Time(\"1994-06-30T23:59:60\", scale='utc', format='isot')"
   ]
  },
  {
   "cell_type": "code",
   "execution_count": 5,
   "metadata": {},
   "outputs": [
    {
     "data": {
      "text/plain": [
       "49533.99998842606"
      ]
     },
     "execution_count": 5,
     "metadata": {},
     "output_type": "execute_result"
    }
   ],
   "source": [
    "leap_time1.mjd"
   ]
  },
  {
   "cell_type": "markdown",
   "metadata": {},
   "source": [
    "# Number of seconds in this day, derived from difference of Julian dates in UTC scale is 86401"
   ]
  },
  {
   "cell_type": "code",
   "execution_count": 7,
   "metadata": {},
   "outputs": [
    {
     "data": {
      "text/plain": [
       "86401.01179473317"
      ]
     },
     "execution_count": 7,
     "metadata": {},
     "output_type": "execute_result"
    }
   ],
   "source": [
    "1/(leap_time1.mjd - leap_time0.mjd)"
   ]
  },
  {
   "cell_type": "markdown",
   "metadata": {},
   "source": [
    "# Number of seconds in this day, derived from difference of Julian dates in TT scale is 86400"
   ]
  },
  {
   "cell_type": "code",
   "execution_count": 8,
   "metadata": {},
   "outputs": [
    {
     "data": {
      "text/plain": [
       "86399.97980297083"
      ]
     },
     "execution_count": 8,
     "metadata": {},
     "output_type": "execute_result"
    }
   ],
   "source": [
    "1/(leap_time1.tt.mjd - leap_time0.tt.mjd)"
   ]
  },
  {
   "cell_type": "markdown",
   "metadata": {},
   "source": [
    "# They cannot both be right (because they are supposed to run at same rate)\n",
    "\n",
    "IAU is clear about which is correct: the JD interval between those two instants in time is `leap_time1.tt.mjd - leap_time0.tt.mjd`"
   ]
  },
  {
   "cell_type": "code",
   "execution_count": 9,
   "metadata": {},
   "outputs": [
    {
     "name": "stdout",
     "output_type": "stream",
     "text": [
      "Interval on UTC scale (incorrect) 1.1573938536457717e-05\n",
      "Interval on TT scale (correct) 1.1574076779652387e-05\n"
     ]
    }
   ],
   "source": [
    "print(\"Leap-Second-Day Interval on UTC scale (incorrect)\", (leap_time1.mjd - leap_time0.mjd))\n",
    "print(\"Leap-Second-Day Interval on TT scale (correct)\", leap_time1.tt.mjd - leap_time0.tt.mjd)"
   ]
  },
  {
   "cell_type": "code",
   "execution_count": 10,
   "metadata": {
    "collapsed": true
   },
   "outputs": [],
   "source": [
    "leap_time2 = Time(\"1994-07-01T00:00:00\", scale='utc', format='isot')"
   ]
  },
  {
   "cell_type": "code",
   "execution_count": 12,
   "metadata": {
    "collapsed": true
   },
   "outputs": [],
   "source": [
    "leap_time3 = Time(\"1994-07-01T00:00:01\", scale='utc', format='isot')"
   ]
  },
  {
   "cell_type": "code",
   "execution_count": 13,
   "metadata": {},
   "outputs": [
    {
     "name": "stderr",
     "output_type": "stream",
     "text": [
      "WARNING: ErfaWarning: ERFA function \"dtf2d\" yielded 1 of \"time is after end of day (Note 5)\" [astropy._erfa.core]\n"
     ]
    }
   ],
   "source": [
    "leap_time4 = Time(\"1995-06-30T23:59:60\", scale='utc', format='isot')"
   ]
  },
  {
   "cell_type": "code",
   "execution_count": 15,
   "metadata": {},
   "outputs": [
    {
     "name": "stdout",
     "output_type": "stream",
     "text": [
      "NonLeap-Second-Day Interval on UTC scale (correct) 1.1574076779652387e-05\n",
      "NOnLeap-Second-Day Interval on TT scale (correct) 1.1574076779652387e-05\n"
     ]
    }
   ],
   "source": [
    "print(\"NonLeap-Second-Day Interval on UTC scale (correct)\", (leap_time3.mjd - leap_time2.mjd))\n",
    "print(\"NOnLeap-Second-Day Interval on TT scale (correct)\", leap_time3.tt.mjd - leap_time2.tt.mjd)"
   ]
  },
  {
   "cell_type": "markdown",
   "metadata": {},
   "source": [
    "# The documented alternative is to difference the time objects, not their JDs\n",
    "\n",
    "This does, of course, give the correct result."
   ]
  },
  {
   "cell_type": "code",
   "execution_count": 16,
   "metadata": {},
   "outputs": [
    {
     "data": {
      "text/plain": [
       "<TimeDelta object: scale='tai' format='jd' value=1.1574074074038876e-05>"
      ]
     },
     "execution_count": 16,
     "metadata": {},
     "output_type": "execute_result"
    }
   ],
   "source": [
    "leap_time1 - leap_time0"
   ]
  },
  {
   "cell_type": "code",
   "execution_count": 3,
   "metadata": {},
   "outputs": [
    {
     "name": "stdout",
     "output_type": "stream",
     "text": [
      "1.9999891519546509\n",
      "1.9999999999939178\n"
     ]
    }
   ],
   "source": [
    "# A time one second before a leap second\n",
    "pre_leap_second = Time(\"1994-06-30T23:59:59\", scale='utc', format='isot')\n",
    "\n",
    "# A time one second after the same leap second:\n",
    "post_leap_second = Time(\"1994-07-01T00:00:00\", scale='utc', format='isot')\n",
    "\n",
    "# The Wrong Way to get the difference:\n",
    "bad_interval = post_leap_second.jd - pre_leap_second.jd\n",
    "print(bad_interval * 86400)\n",
    "# Prints \n",
    "\n",
    "# The Right Way:\n",
    "good_interval = post_leap_second - pre_leap_second\n",
    "print(good_interval.jd * 86400)"
   ]
  },
  {
   "cell_type": "markdown",
   "metadata": {},
   "source": [
    "# Yikes! Astropy! Why do you give me a JD for UTC?\n",
    "\n",
    "See footnote 9, p. 20 of [SOFA Time Scale and Calendar Tools](http://www.iausofa.org/sofa_ts_c.pdf), note above example that demonstrates that the JD on a leap day just is not correct (or sensible)."
   ]
  }
 ],
 "metadata": {
  "kernelspec": {
   "display_name": "Python 3",
   "language": "python",
   "name": "python3"
  },
  "language_info": {
   "codemirror_mode": {
    "name": "ipython",
    "version": 3
   },
   "file_extension": ".py",
   "mimetype": "text/x-python",
   "name": "python",
   "nbconvert_exporter": "python",
   "pygments_lexer": "ipython3",
   "version": "3.6.5"
  }
 },
 "nbformat": 4,
 "nbformat_minor": 1
}
